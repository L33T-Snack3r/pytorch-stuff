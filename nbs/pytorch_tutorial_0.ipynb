{
 "cells": [
  {
   "cell_type": "markdown",
   "metadata": {
    "id": "fP2OxyHc2M5y"
   },
   "source": [
    "### 0 - Pytorch practice\n",
    "https://www.learnpytorch.io/00_pytorch_fundamentals/"
   ]
  },
  {
   "cell_type": "code",
   "execution_count": 1,
   "metadata": {
    "id": "Zds0_D_h1ceV"
   },
   "outputs": [
    {
     "data": {
      "text/plain": [
       "True"
      ]
     },
     "execution_count": 1,
     "metadata": {},
     "output_type": "execute_result"
    }
   ],
   "source": [
    "import torch\n",
    "torch.cuda.is_available()"
   ]
  },
  {
   "cell_type": "markdown",
   "metadata": {
    "id": "H283cXAZ3lzB"
   },
   "source": [
    "Set random seed"
   ]
  },
  {
   "cell_type": "code",
   "execution_count": 2,
   "metadata": {
    "id": "VP5pnLSq3k9R"
   },
   "outputs": [],
   "source": [
    "SEED = 0"
   ]
  },
  {
   "cell_type": "markdown",
   "metadata": {
    "id": "IjFwr2tg2L2S"
   },
   "source": [
    "Create random 7 by 7 tensor"
   ]
  },
  {
   "cell_type": "code",
   "execution_count": 3,
   "metadata": {
    "colab": {
     "base_uri": "https://localhost:8080/"
    },
    "id": "7A3kpA5-1jv9",
    "outputId": "26d67ee9-4afa-469d-e814-2c1d79c81a17"
   },
   "outputs": [
    {
     "data": {
      "text/plain": [
       "tensor([[0.4963, 0.7682, 0.0885, 0.1320, 0.3074, 0.6341, 0.4901],\n",
       "        [0.8964, 0.4556, 0.6323, 0.3489, 0.4017, 0.0223, 0.1689],\n",
       "        [0.2939, 0.5185, 0.6977, 0.8000, 0.1610, 0.2823, 0.6816],\n",
       "        [0.9152, 0.3971, 0.8742, 0.4194, 0.5529, 0.9527, 0.0362],\n",
       "        [0.1852, 0.3734, 0.3051, 0.9320, 0.1759, 0.2698, 0.1507],\n",
       "        [0.0317, 0.2081, 0.9298, 0.7231, 0.7423, 0.5263, 0.2437],\n",
       "        [0.5846, 0.0332, 0.1387, 0.2422, 0.8155, 0.7932, 0.2783]])"
      ]
     },
     "execution_count": 3,
     "metadata": {},
     "output_type": "execute_result"
    }
   ],
   "source": [
    "torch.random.manual_seed(seed=SEED)\n",
    "randtensor1 = torch.rand(7,7, device='cpu')\n",
    "randtensor1"
   ]
  },
  {
   "cell_type": "code",
   "execution_count": 4,
   "metadata": {
    "colab": {
     "base_uri": "https://localhost:8080/"
    },
    "id": "IyASKIkW5blu",
    "outputId": "ed6c1dfa-7dba-4586-a4fb-c68750ec245e"
   },
   "outputs": [
    {
     "data": {
      "text/plain": [
       "device(type='cpu')"
      ]
     },
     "execution_count": 4,
     "metadata": {},
     "output_type": "execute_result"
    }
   ],
   "source": [
    "randtensor1.device"
   ]
  },
  {
   "cell_type": "markdown",
   "metadata": {
    "id": "V78z_c1J2qi6"
   },
   "source": [
    "Perform a matrix multiplication"
   ]
  },
  {
   "cell_type": "code",
   "execution_count": 5,
   "metadata": {
    "colab": {
     "base_uri": "https://localhost:8080/"
    },
    "id": "UYfZN1WH2fB2",
    "outputId": "72f17fc4-dd3c-46d7-89db-99d19c60dfdd"
   },
   "outputs": [
    {
     "data": {
      "text/plain": [
       "tensor([[0.4963],\n",
       "        [0.7682],\n",
       "        [0.0885],\n",
       "        [0.1320],\n",
       "        [0.3074],\n",
       "        [0.6341],\n",
       "        [0.4901]])"
      ]
     },
     "execution_count": 5,
     "metadata": {},
     "output_type": "execute_result"
    }
   ],
   "source": [
    "torch.random.manual_seed(seed=SEED)\n",
    "randtensor2 = torch.rand(1,7, device='cpu')\n",
    "randtensor2 = randtensor2.T\n",
    "randtensor2"
   ]
  },
  {
   "cell_type": "code",
   "execution_count": 6,
   "metadata": {
    "colab": {
     "base_uri": "https://localhost:8080/"
    },
    "id": "EAkIUbT52xnX",
    "outputId": "57976b47-3fca-4f21-cec1-275a9f081150"
   },
   "outputs": [
    {
     "data": {
      "text/plain": [
       "tensor([[1.5985],\n",
       "        [1.1173],\n",
       "        [1.2741],\n",
       "        [1.6838],\n",
       "        [0.8279],\n",
       "        [1.0347],\n",
       "        [1.2498]])"
      ]
     },
     "execution_count": 6,
     "metadata": {},
     "output_type": "execute_result"
    }
   ],
   "source": [
    "multtensor = torch.mm(randtensor1, randtensor2)\n",
    "multtensor"
   ]
  },
  {
   "cell_type": "markdown",
   "metadata": {
    "id": "gFn5Rtip4ZBf"
   },
   "source": [
    "Send tensors to GPU"
   ]
  },
  {
   "cell_type": "code",
   "execution_count": 7,
   "metadata": {
    "id": "UPqjBB_j6QrI"
   },
   "outputs": [],
   "source": [
    "CUDASEED = 1234"
   ]
  },
  {
   "cell_type": "code",
   "execution_count": 8,
   "metadata": {
    "colab": {
     "base_uri": "https://localhost:8080/"
    },
    "id": "kziqIAaI3QRM",
    "outputId": "852e1b10-39bc-4f3e-b5ef-42626b8f0f39"
   },
   "outputs": [
    {
     "data": {
      "text/plain": [
       "tensor([[1.5985],\n",
       "        [1.1173],\n",
       "        [1.2741],\n",
       "        [1.6838],\n",
       "        [0.8279],\n",
       "        [1.0347],\n",
       "        [1.2498]], device='cuda:0')"
      ]
     },
     "execution_count": 8,
     "metadata": {},
     "output_type": "execute_result"
    }
   ],
   "source": [
    "randtensor1gpu = randtensor1.to('cuda')\n",
    "randtensor2gpu = randtensor2.to('cuda')\n",
    "torch.cuda.manual_seed(seed=CUDASEED)\n",
    "multtensorgpu = torch.mm(randtensor1gpu, randtensor2gpu)\n",
    "multtensorgpu"
   ]
  },
  {
   "cell_type": "code",
   "execution_count": 9,
   "metadata": {
    "colab": {
     "base_uri": "https://localhost:8080/"
    },
    "id": "MJQ4WXPl6V1V",
    "outputId": "4839f169-a68a-4afe-dccf-e92b0e195b41"
   },
   "outputs": [
    {
     "data": {
      "text/plain": [
       "tensor([[0.3647, 0.4709],\n",
       "        [0.5184, 0.5617]], device='cuda:0')"
      ]
     },
     "execution_count": 9,
     "metadata": {},
     "output_type": "execute_result"
    }
   ],
   "source": [
    "torch.manual_seed(seed=CUDASEED)\n",
    "randtensor3 = torch.rand(2,3, device='cpu')\n",
    "randtensor4 = torch.rand(2,3, device='cpu')\n",
    "randtensor4 = randtensor4.T\n",
    "\n",
    "randtensor3 = randtensor3.to('cuda')\n",
    "randtensor4 = randtensor4.to('cuda')\n",
    "\n",
    "multtensorgpu2 = torch.mm(randtensor3, randtensor4)\n",
    "multtensorgpu2"
   ]
  },
  {
   "cell_type": "code",
   "execution_count": 10,
   "metadata": {
    "colab": {
     "base_uri": "https://localhost:8080/"
    },
    "id": "fUyFRlNx6ua7",
    "outputId": "6fcaa576-b3a6-4983-deba-98bce95f9491"
   },
   "outputs": [
    {
     "name": "stdout",
     "output_type": "stream",
     "text": [
      "Min: 0.3647301495075226, Index: 0\n",
      "Max: 0.5617256760597229, Index: 3\n"
     ]
    }
   ],
   "source": [
    "print(f\"Min: {multtensorgpu2.min().item()}, Index: {multtensorgpu2.argmin().item()}\")\n",
    "print(f\"Max: {multtensorgpu2.max().item()}, Index: {multtensorgpu2.argmax().item()}\")"
   ]
  },
  {
   "cell_type": "markdown",
   "metadata": {
    "id": "rTQY5R0m8kXQ"
   },
   "source": [
    "Reduce singular dimensions"
   ]
  },
  {
   "cell_type": "code",
   "execution_count": 11,
   "metadata": {
    "colab": {
     "base_uri": "https://localhost:8080/"
    },
    "id": "vloUUp8D8AUp",
    "outputId": "2d617b8e-a41b-4c31-a177-ca54ce78e514"
   },
   "outputs": [
    {
     "name": "stdout",
     "output_type": "stream",
     "text": [
      "tensor([[[[0.4963, 0.7682, 0.0885, 0.1320, 0.3074, 0.6341, 0.4901, 0.8964,\n",
      "           0.4556, 0.6323]]]]) torch.Size([1, 1, 1, 10])\n",
      "tensor([0.4963, 0.7682, 0.0885, 0.1320, 0.3074, 0.6341, 0.4901, 0.8964, 0.4556,\n",
      "        0.6323]) torch.Size([10])\n"
     ]
    }
   ],
   "source": [
    "torch.random.manual_seed(seed=SEED)\n",
    "randtensor5 = torch.rand(1,1,1,10, device='cpu')\n",
    "squeezedtensor = torch.squeeze(randtensor5)\n",
    "print(randtensor5, randtensor5.shape)\n",
    "print(squeezedtensor, squeezedtensor.shape)"
   ]
  },
  {
   "cell_type": "code",
   "execution_count": 12,
   "metadata": {
    "colab": {
     "base_uri": "https://localhost:8080/"
    },
    "id": "jffiPWBC9d1h",
    "outputId": "49042b74-dd5e-452f-aee1-b7ce5aa8e137"
   },
   "outputs": [
    {
     "data": {
      "text/plain": [
       "torch.float32"
      ]
     },
     "execution_count": 12,
     "metadata": {},
     "output_type": "execute_result"
    }
   ],
   "source": [
    "randtensor5.dtype"
   ]
  },
  {
   "cell_type": "markdown",
   "metadata": {
    "id": "kFVX1UrI-Ow9"
   },
   "source": [
    "Changing datatype"
   ]
  },
  {
   "cell_type": "code",
   "execution_count": 13,
   "metadata": {
    "colab": {
     "base_uri": "https://localhost:8080/"
    },
    "id": "MB7gYJ7q93ZU",
    "outputId": "d829ce7f-e8cd-4719-fcdd-f5630606ad7f"
   },
   "outputs": [
    {
     "data": {
      "text/plain": [
       "torch.float64"
      ]
     },
     "execution_count": 13,
     "metadata": {},
     "output_type": "execute_result"
    }
   ],
   "source": [
    "improved_precision = randtensor5.type(torch.float64)\n",
    "improved_precision.dtype"
   ]
  }
 ],
 "metadata": {
  "colab": {
   "provenance": []
  },
  "kernelspec": {
   "display_name": ".venv",
   "language": "python",
   "name": "python3"
  },
  "language_info": {
   "codemirror_mode": {
    "name": "ipython",
    "version": 3
   },
   "file_extension": ".py",
   "mimetype": "text/x-python",
   "name": "python",
   "nbconvert_exporter": "python",
   "pygments_lexer": "ipython3",
   "version": "3.12.8"
  }
 },
 "nbformat": 4,
 "nbformat_minor": 0
}
