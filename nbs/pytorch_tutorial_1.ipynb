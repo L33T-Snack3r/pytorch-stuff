{
 "cells": [
  {
   "cell_type": "markdown",
   "metadata": {
    "id": "cLI5lUKn-qY1"
   },
   "source": [
    "### 1 - Parameters of a cubic function\n",
    "https://www.learnpytorch.io/01_pytorch_workflow/"
   ]
  },
  {
   "cell_type": "code",
   "execution_count": 7,
   "metadata": {
    "colab": {
     "base_uri": "https://localhost:8080/",
     "height": 36
    },
    "id": "iXRqD_f4-Tq6",
    "outputId": "be955aa3-81f8-49fe-c29a-ef0cc820d820"
   },
   "outputs": [
    {
     "data": {
      "text/plain": [
       "'2.5.1+cu124'"
      ]
     },
     "execution_count": 7,
     "metadata": {},
     "output_type": "execute_result"
    }
   ],
   "source": [
    "import torch\n",
    "from torch import nn\n",
    "import matplotlib.pyplot as plt\n",
    "#device = \"cuda\" if torch.cuda.is_available() else \"cpu\"\n",
    "device=\"cpu\"\n",
    "torch.__version__"
   ]
  },
  {
   "cell_type": "markdown",
   "metadata": {
    "id": "wp5coTnjKIwy"
   },
   "source": [
    "Create \"Known\" parameters"
   ]
  },
  {
   "cell_type": "code",
   "execution_count": 8,
   "metadata": {
    "colab": {
     "base_uri": "https://localhost:8080/"
    },
    "id": "CVP4ib7vKHat",
    "outputId": "8a3cd44d-7145-4b5f-b035-d145e1d14c72"
   },
   "outputs": [
    {
     "data": {
      "text/plain": [
       "(tensor([[-2.0000],\n",
       "         [-1.9800],\n",
       "         [-1.9600],\n",
       "         [-1.9400],\n",
       "         [-1.9200],\n",
       "         [-1.9000],\n",
       "         [-1.8800],\n",
       "         [-1.8600],\n",
       "         [-1.8400],\n",
       "         [-1.8200]]),\n",
       " tensor([-1.0000, -0.9612, -0.9247, -0.8906, -0.8587, -0.8290, -0.8015, -0.7761,\n",
       "         -0.7527, -0.7314]))"
      ]
     },
     "execution_count": 8,
     "metadata": {},
     "output_type": "execute_result"
    }
   ],
   "source": [
    "# Create *known* parameters\n",
    "weights = torch.tensor([1.0, 3.0, 2.0], device=device)\n",
    "bias = torch.tensor(-1.0, device=device)\n",
    "\n",
    "#Creates powers\n",
    "powers = torch.arange(len(weights), 0, -1, device=device)\n",
    "\n",
    "# Create data\n",
    "start = -2\n",
    "end = 1\n",
    "step = 0.02\n",
    "X = torch.arange(start, end, step, device=device).unsqueeze(dim=1)\n",
    "y = torch.sum(weights * torch.pow(X, powers), dim=1) + bias\n",
    "\n",
    "X[:10], y[:10]"
   ]
  },
  {
   "cell_type": "markdown",
   "metadata": {
    "id": "82j2Q0HbPJU8"
   },
   "source": [
    "Train test split"
   ]
  },
  {
   "cell_type": "code",
   "execution_count": 9,
   "metadata": {
    "colab": {
     "base_uri": "https://localhost:8080/"
    },
    "id": "ShXLCgUUImnb",
    "outputId": "eef72a1b-2de9-4a2e-bcbe-4913fbd94073"
   },
   "outputs": [
    {
     "data": {
      "text/plain": [
       "(120, 120, 30, 30)"
      ]
     },
     "execution_count": 9,
     "metadata": {},
     "output_type": "execute_result"
    }
   ],
   "source": [
    "train_split = int(0.8 * len(X))\n",
    "X_train, y_train = X[:train_split], y[:train_split]\n",
    "X_test, y_test = X[train_split:], y[train_split:]\n",
    "\n",
    "len(X_train), len(y_train), len(X_test), len(y_test)"
   ]
  },
  {
   "cell_type": "markdown",
   "metadata": {
    "id": "jk_TtLfEPe_W"
   },
   "source": [
    "Plotting function"
   ]
  },
  {
   "cell_type": "code",
   "execution_count": 10,
   "metadata": {
    "id": "-7JRLXA9Nu-c"
   },
   "outputs": [],
   "source": [
    "def plot_predictions(train_data=X_train,\n",
    "                     train_labels=y_train,\n",
    "                     test_data=X_test,\n",
    "                     test_labels=y_test,\n",
    "                     predictions=None):\n",
    "  \"\"\"\n",
    "  Plots training data, test data and compares predictions.\n",
    "  \"\"\"\n",
    "  plt.figure(figsize=(10, 7))\n",
    "\n",
    "  # Plot training data in blue\n",
    "  plt.scatter(train_data, train_labels, c=\"b\", s=4, label=\"Training data\")\n",
    "\n",
    "  # Plot test data in green\n",
    "  plt.scatter(test_data, test_labels, c=\"g\", s=4, label=\"Testing data\")\n",
    "\n",
    "  if predictions is not None:\n",
    "    # Plot the predictions in red (predictions were made on the test data)\n",
    "    plt.scatter(test_data, predictions, c=\"r\", s=4, label=\"Predictions\")\n",
    "\n",
    "  # Show the legend\n",
    "  plt.legend(prop={\"size\": 14});"
   ]
  },
  {
   "cell_type": "code",
   "execution_count": 11,
   "metadata": {
    "colab": {
     "base_uri": "https://localhost:8080/",
     "height": 599
    },
    "id": "M79s1Ju0PgOX",
    "outputId": "23cc1ab8-e4b8-49b3-c766-acb0993aa13a"
   },
   "outputs": [
    {
     "data": {
      "image/png": "[encoded data removed]",
      "text/plain": [
       "<Figure size 1000x700 with 1 Axes>"
      ]
     },
     "metadata": {},
     "output_type": "display_data"
    }
   ],
   "source": [
    "plot_predictions();"
   ]
  },
  {
   "cell_type": "markdown",
   "metadata": {
    "id": "lk7vM1zhVZ6s"
   },
   "source": [
    "Cubic model"
   ]
  },
  {
   "cell_type": "code",
   "execution_count": null,
   "metadata": {
    "id": "JPguegOQPmG1"
   },
   "outputs": [],
   "source": [
    "# # Create a Linear Regression model class\n",
    "# class LinearRegressionModel(nn.Module): # <- almost everything in PyTorch is a nn.Module (think of this as neural network lego blocks)\n",
    "#     def __init__(self):\n",
    "#         super().__init__()\n",
    "#         self.weights = nn.Parameter(torch.randn(1, # <- start with random weights (this will get adjusted as the model learns)\n",
    "#                                                 dtype=torch.float), # <- PyTorch loves float32 by default\n",
    "#                                    requires_grad=True) # <- can we update this value with gradient descent?)\n",
    "\n",
    "#         self.bias = nn.Parameter(torch.randn(1, # <- start with random bias (this will get adjusted as the model learns)\n",
    "#                                             dtype=torch.float), # <- PyTorch loves float32 by default\n",
    "#                                 requires_grad=True) # <- can we update this value with gradient descent?))\n",
    "\n",
    "#     # Forward defines the computation in the model\n",
    "#     def forward(self, x: torch.Tensor) -> torch.Tensor: # <- \"x\" is the input data (e.g. training/testing features)\n",
    "#         return self.weights * x + self.bias # <- this is the linear regression formula (y = m*x + b)\n"
   ]
  },
  {
   "cell_type": "code",
   "execution_count": 12,
   "metadata": {
    "id": "eLEdJufoQSi6"
   },
   "outputs": [],
   "source": [
    "class CubicRegressionModel(nn.Module):\n",
    "  def __init__(self):\n",
    "    super().__init__()\n",
    "    self.weights = nn.Parameter(torch.rand(3, device=device), requires_grad=True)\n",
    "    self.bias = nn.Parameter(torch.rand(1, device=device), requires_grad=True)\n",
    "\n",
    "  def forward(self, x: torch.Tensor) -> torch.Tensor:\n",
    "    powers = torch.arange(len(self.weights), 0, -1, device=device)\n",
    "    return torch.sum(self.weights * torch.pow(x, powers), dim=1) + self.bias"
   ]
  },
  {
   "cell_type": "markdown",
   "metadata": {
    "id": "dppQt13_VcI1"
   },
   "source": [
    "Initialize cubic model"
   ]
  },
  {
   "cell_type": "code",
   "execution_count": 13,
   "metadata": {
    "colab": {
     "base_uri": "https://localhost:8080/",
     "height": 634
    },
    "id": "Kj0kTr8uUWn6",
    "outputId": "b455a09f-efb7-4a85-fff1-7ca995a620cb"
   },
   "outputs": [
    {
     "name": "stdout",
     "output_type": "stream",
     "text": [
      "Initial parameters:\n",
      "OrderedDict({'weights': tensor([0.8823, 0.9150, 0.3829]), 'bias': tensor([0.9593])})\n"
     ]
    },
    {
     "data": {
      "image/png": "[encoded data removed]",
      "text/plain": [
       "<Figure size 1000x700 with 1 Axes>"
      ]
     },
     "metadata": {},
     "output_type": "display_data"
    }
   ],
   "source": [
    "# Set manual seed since nn.Parameter are randomly initialized\n",
    "torch.manual_seed(42)\n",
    "\n",
    "# Create an instance of the model (this is a subclass of nn.Module that contains nn.Parameter(s))\n",
    "model_0 = CubicRegressionModel()\n",
    "\n",
    "# Check the nn.Parameter(s) within the nn.Module subclass we created\n",
    "print(f\"Initial parameters:\\n{model_0.state_dict()}\")\n",
    "\n",
    "# Make predictions with model\n",
    "with torch.inference_mode():\n",
    "    y_preds = model_0(X_test)\n",
    "\n",
    "#Plot initial predictions\n",
    "plot_predictions(predictions=y_preds)"
   ]
  },
  {
   "cell_type": "code",
   "execution_count": 14,
   "metadata": {
    "colab": {
     "base_uri": "https://localhost:8080/"
    },
    "id": "qgFuKeOtVvek",
    "outputId": "230cc686-46e7-449e-9128-15776c9d6129"
   },
   "outputs": [
    {
     "data": {
      "text/plain": [
       "[Parameter containing:\n",
       " tensor([0.8823, 0.9150, 0.3829], requires_grad=True),\n",
       " Parameter containing:\n",
       " tensor([0.9593], requires_grad=True)]"
      ]
     },
     "execution_count": 14,
     "metadata": {},
     "output_type": "execute_result"
    }
   ],
   "source": [
    "list(model_0.parameters())"
   ]
  },
  {
   "cell_type": "markdown",
   "metadata": {
    "id": "g1mV25HtVelX"
   },
   "source": [
    "Train cubic model"
   ]
  },
  {
   "cell_type": "code",
   "execution_count": 15,
   "metadata": {
    "id": "a9a7XwbDUsQH"
   },
   "outputs": [],
   "source": [
    "# Create the loss function\n",
    "loss_fn = nn.L1Loss() # MAE loss is same as L1Loss\n",
    "\n",
    "# Create the optimizer\n",
    "optimizer = torch.optim.SGD(params=model_0.parameters(), # parameters of target model to optimize\n",
    "                            lr=0.01)"
   ]
  },
  {
   "cell_type": "code",
   "execution_count": 18,
   "metadata": {
    "colab": {
     "base_uri": "https://localhost:8080/"
    },
    "id": "go7V5LqpV9XY",
    "outputId": "eb3bbb41-3b1d-4fec-81b4-2ccc9a887656"
   },
   "outputs": [
    {
     "name": "stdout",
     "output_type": "stream",
     "text": [
      "Epoch: 0 | MAE Train Loss: 0.034637682139873505 | MAE Test Loss: 0.038159601390361786 \n",
      "Epoch: 1000 | MAE Train Loss: 0.034637682139873505 | MAE Test Loss: 0.038159601390361786 \n",
      "Epoch: 2000 | MAE Train Loss: 0.034637682139873505 | MAE Test Loss: 0.038159601390361786 \n",
      "Epoch: 3000 | MAE Train Loss: 0.034637682139873505 | MAE Test Loss: 0.038159601390361786 \n",
      "Epoch: 4000 | MAE Train Loss: 0.034637682139873505 | MAE Test Loss: 0.038159601390361786 \n",
      "Epoch: 5000 | MAE Train Loss: 0.034637682139873505 | MAE Test Loss: 0.038159601390361786 \n",
      "Epoch: 6000 | MAE Train Loss: 0.034637682139873505 | MAE Test Loss: 0.038159601390361786 \n",
      "Epoch: 7000 | MAE Train Loss: 0.034637682139873505 | MAE Test Loss: 0.038159601390361786 \n",
      "Epoch: 8000 | MAE Train Loss: 0.034637682139873505 | MAE Test Loss: 0.038159601390361786 \n",
      "Epoch: 9000 | MAE Train Loss: 0.034637682139873505 | MAE Test Loss: 0.038159601390361786 \n"
     ]
    }
   ],
   "source": [
    "torch.manual_seed(42)\n",
    "\n",
    "#Set number of epochs\n",
    "epochs = 10000\n",
    "\n",
    "#Bookeeping\n",
    "train_loss_values, test_loss_values, epoch_count = [], [], []\n",
    "\n",
    "for epoch in range(epochs):\n",
    "  ### Training\n",
    "\n",
    "  #Put model in train mode\n",
    "  model_0.train()\n",
    "\n",
    "  # 1. Forward pass on train data using the forward() method\n",
    "  y_pred = model_0.forward(X_train)\n",
    "\n",
    "  # 2. Calculate loss\n",
    "  loss = loss_fn(y_pred, y_train)\n",
    "\n",
    "  # 3. Zero grad of the optimizer, or else the gradients accumulate\n",
    "  optimizer.zero_grad()\n",
    "\n",
    "  # 4. Backpropogate loss\n",
    "  # https://discuss.pytorch.org/t/what-does-the-backward-function-do/9944/2\n",
    "  loss.backward()\n",
    "\n",
    "  # 5. Update model parameters from x.grad = dloss/dx\n",
    "  optimizer.step()\n",
    "\n",
    "  ### Testing\n",
    "\n",
    "  #6. Put model in eval mode\n",
    "  model_0.eval()\n",
    "\n",
    "  with torch.inference_mode():\n",
    "    # 7. Forward pass on test data\n",
    "    test_pred = model_0.forward(X_test)\n",
    "\n",
    "    # 8. Compute loss on test set\n",
    "    test_loss = loss_fn(test_pred, y_test.type(torch.float)) # predictions come in torch.float datatype, so comparisons need to be done with tensors of the same type\n",
    "\n",
    "    # Print out what's happening\n",
    "    if epoch % 1000 == 0:\n",
    "          epoch_count.append(epoch)\n",
    "          train_loss_values.append(loss.detach().numpy())\n",
    "          test_loss_values.append(test_loss.detach().numpy())\n",
    "          print(f\"Epoch: {epoch} | MAE Train Loss: {loss} | MAE Test Loss: {test_loss} \")\n"
   ]
  },
  {
   "cell_type": "code",
   "execution_count": 19,
   "metadata": {
    "colab": {
     "base_uri": "https://localhost:8080/"
    },
    "id": "-UFv-FWgZokx",
    "outputId": "945b9d10-7dbe-4615-e65f-c443e38c089b"
   },
   "outputs": [
    {
     "data": {
      "text/plain": [
       "[Parameter containing:\n",
       " tensor([0.9504, 2.9488, 2.0015], requires_grad=True),\n",
       " Parameter containing:\n",
       " tensor([-0.9904], requires_grad=True)]"
      ]
     },
     "execution_count": 19,
     "metadata": {},
     "output_type": "execute_result"
    }
   ],
   "source": [
    "list(model_0.parameters())"
   ]
  },
  {
   "cell_type": "code",
   "execution_count": 20,
   "metadata": {
    "colab": {
     "base_uri": "https://localhost:8080/",
     "height": 599
    },
    "id": "foGyC6zDZIxb",
    "outputId": "c4cb8eed-68a6-4ab3-dacf-aaeb2719f2b7"
   },
   "outputs": [
    {
     "data": {
      "image/png": "[encoded data removed]",
      "text/plain": [
       "<Figure size 1000x700 with 1 Axes>"
      ]
     },
     "metadata": {},
     "output_type": "display_data"
    }
   ],
   "source": [
    "model_0.eval()\n",
    "\n",
    "with torch.inference_mode():\n",
    "  y_preds = model_0(X_test)\n",
    "\n",
    "plot_predictions(predictions=y_preds)"
   ]
  },
  {
   "cell_type": "markdown",
   "metadata": {
    "id": "rG2N8M2vauRC"
   },
   "source": [
    "Save model"
   ]
  },
  {
   "cell_type": "code",
   "execution_count": 21,
   "metadata": {
    "colab": {
     "base_uri": "https://localhost:8080/"
    },
    "id": "V_qpgUZ_Zg_m",
    "outputId": "43c0e557-1fc6-4daa-99f5-425364a5e925"
   },
   "outputs": [
    {
     "name": "stdout",
     "output_type": "stream",
     "text": [
      "Saving model to: models\\01_pytorch_workflow_model_1.pth\n"
     ]
    }
   ],
   "source": [
    "from pathlib import Path\n",
    "\n",
    "# 1. Create models directory\n",
    "MODEL_PATH = Path(\"models\")\n",
    "MODEL_PATH.mkdir(parents=True, exist_ok=True)\n",
    "\n",
    "# 2. Create model save path\n",
    "MODEL_NAME = \"01_pytorch_workflow_model_1.pth\"\n",
    "MODEL_SAVE_PATH = MODEL_PATH / MODEL_NAME\n",
    "\n",
    "# 3. Save the model state dict\n",
    "print(f\"Saving model to: {MODEL_SAVE_PATH}\")\n",
    "torch.save(obj=model_0.state_dict(), # only saving the state_dict() only saves the models learned parameters\n",
    "           f=MODEL_SAVE_PATH)"
   ]
  },
  {
   "cell_type": "markdown",
   "metadata": {
    "id": "LfEOGN6Ea92e"
   },
   "source": [
    "Read in saved model and infer"
   ]
  },
  {
   "cell_type": "code",
   "execution_count": 25,
   "metadata": {
    "colab": {
     "base_uri": "https://localhost:8080/"
    },
    "id": "Asbpalyla6Qz",
    "outputId": "b00fd134-efef-4bc3-9ec3-95eaca32ce88"
   },
   "outputs": [
    {
     "name": "stderr",
     "output_type": "stream",
     "text": [
      "C:\\Users\\thefu\\AppData\\Local\\Temp\\ipykernel_12304\\2040883186.py:3: FutureWarning: You are using `torch.load` with `weights_only=False` (the current default value), which uses the default pickle module implicitly. It is possible to construct malicious pickle data which will execute arbitrary code during unpickling (See https://github.com/pytorch/pytorch/blob/main/SECURITY.md#untrusted-models for more details). In a future release, the default value for `weights_only` will be flipped to `True`. This limits the functions that could be executed during unpickling. Arbitrary objects will no longer be allowed to be loaded via this mode unless they are explicitly allowlisted by the user via `torch.serialization.add_safe_globals`. We recommend you start setting `weights_only=True` for any use case where you don't have full control of the loaded file. Please open an issue on GitHub for any issues related to this experimental feature.\n",
      "  loaded_model_1.load_state_dict(torch.load(MODEL_PATH))\n"
     ]
    },
    {
     "data": {
      "text/plain": [
       "[Parameter containing:\n",
       " tensor([0.9504, 2.9488, 2.0015], requires_grad=True),\n",
       " Parameter containing:\n",
       " tensor([-0.9904], requires_grad=True)]"
      ]
     },
     "execution_count": 25,
     "metadata": {},
     "output_type": "execute_result"
    }
   ],
   "source": [
    "MODEL_PATH = \"models/01_pytorch_workflow_model_1.pth\"\n",
    "loaded_model_1 = CubicRegressionModel()\n",
    "loaded_model_1.load_state_dict(torch.load(MODEL_PATH))\n",
    "\n",
    "loaded_model_1.to(device)\n",
    "list(model_0.parameters())"
   ]
  },
  {
   "cell_type": "code",
   "execution_count": 26,
   "metadata": {
    "colab": {
     "base_uri": "https://localhost:8080/",
     "height": 599
    },
    "id": "-TDk0IdDbWRg",
    "outputId": "00e4422f-f0e3-4a45-e712-a8471151e2fa"
   },
   "outputs": [
    {
     "data": {
      "image/png": "[encoded data removed]",
      "text/plain": [
       "<Figure size 1000x700 with 1 Axes>"
      ]
     },
     "metadata": {},
     "output_type": "display_data"
    }
   ],
   "source": [
    "# Evaluate loaded model\n",
    "loaded_model_1.eval()\n",
    "with torch.inference_mode():\n",
    "    loaded_model_1_preds = loaded_model_1(X_test)\n",
    "\n",
    "plot_predictions(predictions=loaded_model_1_preds)"
   ]
  }
 ],
 "metadata": {
  "colab": {
   "provenance": []
  },
  "kernelspec": {
   "display_name": ".venv",
   "language": "python",
   "name": "python3"
  },
  "language_info": {
   "codemirror_mode": {
    "name": "ipython",
    "version": 3
   },
   "file_extension": ".py",
   "mimetype": "text/x-python",
   "name": "python",
   "nbconvert_exporter": "python",
   "pygments_lexer": "ipython3",
   "version": "3.12.8"
  }
 },
 "nbformat": 4,
 "nbformat_minor": 0
}
